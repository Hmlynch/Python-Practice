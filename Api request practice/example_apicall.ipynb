{
 "cells": [
  {
   "cell_type": "code",
   "execution_count": 1,
   "metadata": {},
   "outputs": [
    {
     "name": "stdout",
     "output_type": "stream",
     "text": [
      "Requirement already satisfied: kaggle in /Library/Frameworks/Python.framework/Versions/3.9/lib/python3.9/site-packages (1.5.12)\n",
      "Requirement already satisfied: six>=1.10 in /Users/haydenlynch/Library/Python/3.9/lib/python/site-packages (from kaggle) (1.16.0)\n",
      "Requirement already satisfied: certifi in /Library/Frameworks/Python.framework/Versions/3.9/lib/python3.9/site-packages (from kaggle) (2022.12.7)\n",
      "Requirement already satisfied: python-dateutil in /Users/haydenlynch/Library/Python/3.9/lib/python/site-packages (from kaggle) (2.8.2)\n",
      "Requirement already satisfied: requests in /Library/Frameworks/Python.framework/Versions/3.9/lib/python3.9/site-packages (from kaggle) (2.28.1)\n",
      "Requirement already satisfied: tqdm in /Library/Frameworks/Python.framework/Versions/3.9/lib/python3.9/site-packages (from kaggle) (4.64.1)\n",
      "Requirement already satisfied: python-slugify in /Library/Frameworks/Python.framework/Versions/3.9/lib/python3.9/site-packages (from kaggle) (7.0.0)\n",
      "Requirement already satisfied: urllib3 in /Library/Frameworks/Python.framework/Versions/3.9/lib/python3.9/site-packages (from kaggle) (1.26.13)\n",
      "Requirement already satisfied: text-unidecode>=1.3 in /Library/Frameworks/Python.framework/Versions/3.9/lib/python3.9/site-packages (from python-slugify->kaggle) (1.3)\n",
      "Requirement already satisfied: idna<4,>=2.5 in /Library/Frameworks/Python.framework/Versions/3.9/lib/python3.9/site-packages (from requests->kaggle) (3.4)\n",
      "Requirement already satisfied: charset-normalizer<3,>=2 in /Library/Frameworks/Python.framework/Versions/3.9/lib/python3.9/site-packages (from requests->kaggle) (2.1.1)\n",
      "Note: you may need to restart the kernel to use updated packages.\n"
     ]
    }
   ],
   "source": [
    "pip install kaggle"
   ]
  },
  {
   "cell_type": "code",
   "execution_count": null,
   "metadata": {},
   "outputs": [],
   "source": [
    "import kaggle"
   ]
  },
  {
   "cell_type": "code",
   "execution_count": 3,
   "metadata": {},
   "outputs": [],
   "source": [
    "!cp /Users/haydenlynch/Downloads/kaggle.json /Users/haydenlynch/.kaggle/kaggle.json"
   ]
  },
  {
   "cell_type": "code",
   "execution_count": 4,
   "metadata": {},
   "outputs": [
    {
     "name": "stdout",
     "output_type": "stream",
     "text": [
      "kaggle.json\n"
     ]
    }
   ],
   "source": [
    "!cd /Users/haydenlynch/.kaggle/ && ls"
   ]
  },
  {
   "cell_type": "code",
   "execution_count": 5,
   "metadata": {},
   "outputs": [
    {
     "name": "stdout",
     "output_type": "stream",
     "text": [
      "Warning: Your Kaggle API key is readable by other users on this system! To fix this, you can run 'chmod 600 /Users/haydenlynch/.kaggle/kaggle.json'\n",
      "ref                                                       title                                                 size  lastUpdated          downloadCount  voteCount  usabilityRating  \n",
      "--------------------------------------------------------  --------------------------------------------------  ------  -------------------  -------------  ---------  ---------------  \n",
      "shivamb/netflix-shows                                     Netflix Movies and TV Shows                            1MB  2021-09-27 04:44:36         297448       7126  1.0              \n",
      "shivamb/hulu-movies-and-tv-shows                          Hulu Movies and TV Shows                             421KB  2021-10-25 03:32:36           3336         49  1.0              \n",
      "victorsoeiro/hulu-tv-shows-and-movies                     Hulu TV Shows and Movies                            1012KB  2022-05-19 00:25:51            824         29  1.0              \n",
      "victorsoeiro/netflix-tv-shows-and-movies                  Netflix TV Shows and Movies                            2MB  2022-07-26 19:50:06          24969        585  1.0              \n",
      "shivamb/disney-movies-and-tv-shows                        Disney+ Movies and TV Shows                          131KB  2021-11-29 02:25:49          14722        239  1.0              \n",
      "shivamb/amazon-prime-movies-and-tv-shows                  Amazon Prime Movies and TV Shows                       2MB  2021-10-12 14:55:12          10169        122  1.0              \n",
      "ritesh2000/trending-tv-shows-on-netflix                   Trending TV Shows on Netflix                          914B  2020-08-11 09:31:56           2538         91  1.0              \n",
      "victorsoeiro/amazon-prime-tv-shows-and-movies             Amazon Prime TV Shows and Movies                       4MB  2022-05-14 16:36:47           2941         59  1.0              \n",
      "victorsoeiro/disney-tv-shows-and-movies                   Disney+ TV Shows and Movies                          718KB  2022-05-13 23:24:57           2207         45  1.0              \n",
      "victorsoeiro/hbo-max-tv-shows-and-movies                  HBO Max TV Shows and Movies                            2MB  2022-05-19 00:26:30           1765         40  1.0              \n",
      "victorsoeiro/crunchyroll-animes-and-movies                Crunchyroll Animes and Movies                        406KB  2022-05-13 15:29:49            531         31  1.0              \n",
      "victorsoeiro/paramount-tv-shows-and-movies                Paramount TV Shows and Movies                          1MB  2022-05-14 12:24:50            490         30  1.0              \n",
      "ruchi798/movies-on-netflix-prime-video-hulu-and-disney    Movies on Netflix, Prime Video, Hulu and Disney+     166KB  2021-12-16 16:30:28          25366        670  1.0              \n",
      "ruchi798/tv-shows-on-netflix-prime-video-hulu-and-disney  TV shows on Netflix, Prime Video, Hulu and Disney+   101KB  2021-08-02 06:40:11          13884        353  1.0              \n",
      "goelyash/disney-hotstar-tv-and-movie-catalog              Disney+ Hotstar Tv and Movie Catalog                 532KB  2022-10-25 13:50:25           1519         42  1.0              \n",
      "victorsoeiro/dark-matter-tv-shows-and-movies              Dark Matter TV Shows and Movies                      400KB  2022-05-12 01:51:53            107         11  1.0              \n",
      "victorsoeiro/rakuten-tv-dramas-and-movies                 Rakuten Viki TV Dramas and Movies                    684KB  2022-05-12 01:12:43            184         10  1.0              \n",
      "crawlfeeds/movies-and-tv-shows-dataset                    Movies and TV shows dataset                          577KB  2022-07-03 17:37:09            158          6  0.8125           \n",
      "whenamancodes/netflix-prime-video-disney-hulu             Netflix Disney+ Prime Video Hulu Shows Collection    101KB  2022-09-13 09:05:20           2059         38  1.0              \n",
      "javagarm/movies-on-ott-platforms                          Movies on OTT platforms                              579KB  2020-10-15 05:31:34           1047         23  0.9705882        \n"
     ]
    }
   ],
   "source": [
    "!kaggle datasets list -s 'Hulu TV Shows and Movies'"
   ]
  }
 ],
 "metadata": {
  "kernelspec": {
   "display_name": "Python 3",
   "language": "python",
   "name": "python3"
  },
  "language_info": {
   "codemirror_mode": {
    "name": "ipython",
    "version": 3
   },
   "file_extension": ".py",
   "mimetype": "text/x-python",
   "name": "python",
   "nbconvert_exporter": "python",
   "pygments_lexer": "ipython3",
   "version": "3.9.7"
  },
  "orig_nbformat": 4,
  "vscode": {
   "interpreter": {
    "hash": "aee8b7b246df8f9039afb4144a1f6fd8d2ca17a180786b69acc140d282b71a49"
   }
  }
 },
 "nbformat": 4,
 "nbformat_minor": 2
}
