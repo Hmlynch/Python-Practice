{
 "cells": [
  {
   "cell_type": "code",
   "execution_count": null,
   "metadata": {},
   "outputs": [],
   "source": [
    "pip install requests"
   ]
  },
  {
   "cell_type": "code",
   "execution_count": null,
   "metadata": {},
   "outputs": [],
   "source": [
    "import requests # basic package that comes with python normally, if not installed, you can \"pip install requests\"\n",
    "\n",
    "movie_response = requests.get(\"https://api.themoviedb.org/3/movie/550\")\n",
    "print(movie_response.status_code)"
   ]
  },
  {
   "cell_type": "code",
   "execution_count": 33,
   "metadata": {},
   "outputs": [],
   "source": [
    "moviedb_api_key = \"8b6f1e2319a470dbc479bd4a3e4ac725\""
   ]
  },
  {
   "cell_type": "code",
   "execution_count": null,
   "metadata": {},
   "outputs": [],
   "source": [
    "movie_response = requests.get(f\"https://api.themoviedb.org/3/movie/550?api_key={moviedb_api_key}\")\n",
    "print(movie_response.status_code)"
   ]
  },
  {
   "cell_type": "code",
   "execution_count": null,
   "metadata": {},
   "outputs": [],
   "source": [
    "print(movie_response.text)\n",
    "# prints a string of tuples that hold the information in an unorganized pattern"
   ]
  },
  {
   "cell_type": "code",
   "execution_count": 36,
   "metadata": {},
   "outputs": [
    {
     "name": "stdout",
     "output_type": "stream",
     "text": [
      "<class 'str'>\n"
     ]
    }
   ],
   "source": [
    "print(type(movie_response.text))\n",
    "# shows that the information is in a string formate"
   ]
  },
  {
   "cell_type": "code",
   "execution_count": null,
   "metadata": {},
   "outputs": [],
   "source": [
    "import json\n",
    "#most basic call to api\n",
    "\n",
    "movie_json = json.loads(movie_response.text)\n",
    "for key, value in movie_json.items():\n",
    "    print(key, ':', value)"
   ]
  },
  {
   "cell_type": "code",
   "execution_count": 38,
   "metadata": {},
   "outputs": [],
   "source": [
    "moviedb_base_url = \"https://api.themoviedb.org/3\""
   ]
  },
  {
   "cell_type": "code",
   "execution_count": 40,
   "metadata": {},
   "outputs": [
    {
     "name": "stdout",
     "output_type": "stream",
     "text": [
      "Fight Club\n"
     ]
    }
   ],
   "source": [
    "# basic function for retrieving movie details\n",
    "def get_movie_info(movie_id):\n",
    "    movie_response = requests.get(f\"{moviedb_base_url}/movie/{movie_id}?api_key={moviedb_api_key}\")\n",
    "    return json.loads(movie_response.text)\n",
    "\n",
    "print(get_movie_info(550)['title'])"
   ]
  },
  {
   "cell_type": "code",
   "execution_count": 41,
   "metadata": {},
   "outputs": [
    {
     "name": "stdout",
     "output_type": "stream",
     "text": [
      "Fight Club\n"
     ]
    }
   ],
   "source": [
    "# This function will preload the json feature to retrieve data, all thats needed is the new url\n",
    "def load_json_for_url(url):\n",
    "    response = requests.get(url)\n",
    "    return json.loads(response.text)\n",
    "\n",
    "def get_movie_info(movie_id):\n",
    "    return load_json_for_url(f\"{moviedb_base_url}/movie/{movie_id}?api_key={moviedb_api_key}\")\n",
    "print(get_movie_info(550)['title'])"
   ]
  },
  {
   "cell_type": "code",
   "execution_count": 42,
   "metadata": {},
   "outputs": [
    {
     "name": "stdout",
     "output_type": "stream",
     "text": [
      "Fight Club\n"
     ]
    }
   ],
   "source": [
    "# function for adding path as a variable for different routes\n",
    "def load_moviedb_info(path):\n",
    "    return load_json_for_url(f\"{moviedb_base_url}/{path}?api_key={moviedb_api_key}\")\n",
    "\n",
    "def get_movie_info(movie_id):\n",
    "    return load_moviedb_info(f\"movie/{movie_id}\")\n",
    "\n",
    "print(get_movie_info(550)['title'])"
   ]
  },
  {
   "cell_type": "code",
   "execution_count": 43,
   "metadata": {},
   "outputs": [
    {
     "name": "stdout",
     "output_type": "stream",
     "text": [
      "M. Night Shyamalan\n"
     ]
    }
   ],
   "source": [
    "def get_person_info(person_id):\n",
    "    return load_moviedb_info(f\"person/{person_id}\")\n",
    "\n",
    "print(get_person_info(11614)['name'])"
   ]
  },
  {
   "cell_type": "code",
   "execution_count": 44,
   "metadata": {},
   "outputs": [
    {
     "name": "stdout",
     "output_type": "stream",
     "text": [
      "M. Night Shyamalan\n"
     ]
    }
   ],
   "source": [
    "import urllib.parse\n",
    "\n",
    "# This function using urllib.parse allows to add in parameters to function call\n",
    "\n",
    "def load_moviedb_info(path, params={}):\n",
    "    params[ 'api_key' ] = moviedb_api_key\n",
    "    return load_json_for_url(f\"{moviedb_base_url}/{path}?{urllib.parse.urlencode(params)}\")\n",
    "\n",
    "def get_person_info(person_id):\n",
    "    return load_moviedb_info(f\"person/{person_id}\")\n",
    "\n",
    "print(get_person_info(11614)['name'])"
   ]
  },
  {
   "cell_type": "code",
   "execution_count": 47,
   "metadata": {},
   "outputs": [],
   "source": [
    "def get_person_credits(person_id):\n",
    "    person_info = load_moviedb_info(f\"person/{person_id}\", {'append_to_response': 'credits'})\n",
    "    return person_info['credits']"
   ]
  },
  {
   "cell_type": "code",
   "execution_count": 48,
   "metadata": {},
   "outputs": [],
   "source": [
    "person_credits = get_person_credits(11614)"
   ]
  },
  {
   "cell_type": "code",
   "execution_count": null,
   "metadata": {},
   "outputs": [],
   "source": [
    "print(\"CAST\")\n",
    "for credit in person_credits['cast']:\n",
    "    print(credit['title'], ':', credit['character'])\n",
    "\n",
    "# Provides actor roles for film"
   ]
  },
  {
   "cell_type": "code",
   "execution_count": null,
   "metadata": {},
   "outputs": [],
   "source": [
    "print(\"CREW\")\n",
    "for credit in person_credits['crew']:\n",
    "    print(credit['title'], ':', credit['job'])\n",
    "\n",
    "# Provides job roles for film"
   ]
  }
 ],
 "metadata": {
  "kernelspec": {
   "display_name": "Python 3",
   "language": "python",
   "name": "python3"
  },
  "language_info": {
   "codemirror_mode": {
    "name": "ipython",
    "version": 3
   },
   "file_extension": ".py",
   "mimetype": "text/x-python",
   "name": "python",
   "nbconvert_exporter": "python",
   "pygments_lexer": "ipython3",
   "version": "3.9.7"
  },
  "orig_nbformat": 4,
  "vscode": {
   "interpreter": {
    "hash": "aee8b7b246df8f9039afb4144a1f6fd8d2ca17a180786b69acc140d282b71a49"
   }
  }
 },
 "nbformat": 4,
 "nbformat_minor": 2
}
