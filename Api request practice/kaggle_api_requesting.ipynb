{
 "cells": [
  {
   "cell_type": "code",
   "execution_count": 4,
   "metadata": {},
   "outputs": [
    {
     "name": "stdout",
     "output_type": "stream",
     "text": [
      "Requirement already satisfied: kaggle in /Library/Frameworks/Python.framework/Versions/3.9/lib/python3.9/site-packages (1.5.12)\n",
      "Requirement already satisfied: six>=1.10 in /Users/haydenlynch/Library/Python/3.9/lib/python/site-packages (from kaggle) (1.16.0)\n",
      "Requirement already satisfied: certifi in /Library/Frameworks/Python.framework/Versions/3.9/lib/python3.9/site-packages (from kaggle) (2022.12.7)\n",
      "Requirement already satisfied: python-dateutil in /Users/haydenlynch/Library/Python/3.9/lib/python/site-packages (from kaggle) (2.8.2)\n",
      "Requirement already satisfied: requests in /Library/Frameworks/Python.framework/Versions/3.9/lib/python3.9/site-packages (from kaggle) (2.28.1)\n",
      "Requirement already satisfied: tqdm in /Library/Frameworks/Python.framework/Versions/3.9/lib/python3.9/site-packages (from kaggle) (4.64.1)\n",
      "Requirement already satisfied: python-slugify in /Library/Frameworks/Python.framework/Versions/3.9/lib/python3.9/site-packages (from kaggle) (7.0.0)\n",
      "Requirement already satisfied: urllib3 in /Library/Frameworks/Python.framework/Versions/3.9/lib/python3.9/site-packages (from kaggle) (1.26.13)\n",
      "Requirement already satisfied: text-unidecode>=1.3 in /Library/Frameworks/Python.framework/Versions/3.9/lib/python3.9/site-packages (from python-slugify->kaggle) (1.3)\n",
      "Requirement already satisfied: idna<4,>=2.5 in /Library/Frameworks/Python.framework/Versions/3.9/lib/python3.9/site-packages (from requests->kaggle) (3.4)\n",
      "Requirement already satisfied: charset-normalizer<3,>=2 in /Library/Frameworks/Python.framework/Versions/3.9/lib/python3.9/site-packages (from requests->kaggle) (2.1.1)\n",
      "Note: you may need to restart the kernel to use updated packages.\n"
     ]
    }
   ],
   "source": [
    "pip install kaggle"
   ]
  },
  {
   "cell_type": "code",
   "execution_count": 8,
   "metadata": {},
   "outputs": [
    {
     "name": "stdout",
     "output_type": "stream",
     "text": [
      "Warning: Your Kaggle API key is readable by other users on this system! To fix this, you can run 'chmod 600 /Users/haydenlynch/.kaggle/kaggle.json'\n"
     ]
    }
   ],
   "source": [
    "import kaggle"
   ]
  },
  {
   "cell_type": "code",
   "execution_count": 12,
   "metadata": {},
   "outputs": [
    {
     "name": "stdout",
     "output_type": "stream",
     "text": [
      "kaggle.json\n"
     ]
    }
   ],
   "source": [
    "!cd /Users/haydenlynch/.kaggle/ && ls"
   ]
  },
  {
   "cell_type": "code",
   "execution_count": 14,
   "metadata": {},
   "outputs": [
    {
     "name": "stdout",
     "output_type": "stream",
     "text": [
      "Warning: Your Kaggle API key is readable by other users on this system! To fix this, you can run 'chmod 600 /Users/haydenlynch/.kaggle/kaggle.json'\n",
      "ref                                                       title                                                 size  lastUpdated          downloadCount  voteCount  usabilityRating  \n",
      "--------------------------------------------------------  --------------------------------------------------  ------  -------------------  -------------  ---------  ---------------  \n",
      "shivamb/netflix-shows                                     Netflix Movies and TV Shows                            1MB  2021-09-27 04:44:36         297372       7126  1.0              \n",
      "shivamb/hulu-movies-and-tv-shows                          Hulu Movies and TV Shows                             421KB  2021-10-25 03:32:36           3336         49  1.0              \n",
      "victorsoeiro/hulu-tv-shows-and-movies                     Hulu TV Shows and Movies                            1012KB  2022-05-19 00:25:51            823         29  1.0              \n",
      "victorsoeiro/netflix-tv-shows-and-movies                  Netflix TV Shows and Movies                            2MB  2022-07-26 19:50:06          24962        585  1.0              \n",
      "shivamb/disney-movies-and-tv-shows                        Disney+ Movies and TV Shows                          131KB  2021-11-29 02:25:49          14714        239  1.0              \n",
      "shivamb/amazon-prime-movies-and-tv-shows                  Amazon Prime Movies and TV Shows                       2MB  2021-10-12 14:55:12          10166        122  1.0              \n",
      "ritesh2000/trending-tv-shows-on-netflix                   Trending TV Shows on Netflix                          914B  2020-08-11 09:31:56           2538         91  1.0              \n",
      "victorsoeiro/amazon-prime-tv-shows-and-movies             Amazon Prime TV Shows and Movies                       4MB  2022-05-14 16:36:47           2941         59  1.0              \n",
      "victorsoeiro/disney-tv-shows-and-movies                   Disney+ TV Shows and Movies                          718KB  2022-05-13 23:24:57           2207         45  1.0              \n",
      "victorsoeiro/hbo-max-tv-shows-and-movies                  HBO Max TV Shows and Movies                            2MB  2022-05-19 00:26:30           1765         40  1.0              \n",
      "victorsoeiro/crunchyroll-animes-and-movies                Crunchyroll Animes and Movies                        406KB  2022-05-13 15:29:49            531         31  1.0              \n",
      "victorsoeiro/paramount-tv-shows-and-movies                Paramount TV Shows and Movies                          1MB  2022-05-14 12:24:50            490         30  1.0              \n",
      "ruchi798/movies-on-netflix-prime-video-hulu-and-disney    Movies on Netflix, Prime Video, Hulu and Disney+     166KB  2021-12-16 16:30:28          25343        670  1.0              \n",
      "ruchi798/tv-shows-on-netflix-prime-video-hulu-and-disney  TV shows on Netflix, Prime Video, Hulu and Disney+   101KB  2021-08-02 06:40:11          13883        353  1.0              \n",
      "goelyash/disney-hotstar-tv-and-movie-catalog              Disney+ Hotstar Tv and Movie Catalog                 532KB  2022-10-25 13:50:25           1517         42  1.0              \n",
      "victorsoeiro/dark-matter-tv-shows-and-movies              Dark Matter TV Shows and Movies                      400KB  2022-05-12 01:51:53            107         11  1.0              \n",
      "victorsoeiro/rakuten-tv-dramas-and-movies                 Rakuten Viki TV Dramas and Movies                    684KB  2022-05-12 01:12:43            184         10  1.0              \n",
      "crawlfeeds/movies-and-tv-shows-dataset                    Movies and TV shows dataset                          577KB  2022-07-03 17:37:09            158          6  0.8125           \n",
      "whenamancodes/netflix-prime-video-disney-hulu             Netflix Disney+ Prime Video Hulu Shows Collection    101KB  2022-09-13 09:05:20           2059         38  1.0              \n",
      "javagarm/movies-on-ott-platforms                          Movies on OTT platforms                              579KB  2020-10-15 05:31:34           1045         23  0.9705882        \n"
     ]
    }
   ],
   "source": [
    "!kaggle datasets list -s 'Hulu TV Shows and Movies'"
   ]
  },
  {
   "cell_type": "code",
   "execution_count": 15,
   "metadata": {},
   "outputs": [
    {
     "name": "stdout",
     "output_type": "stream",
     "text": [
      "Warning: Your Kaggle API key is readable by other users on this system! To fix this, you can run 'chmod 600 /Users/haydenlynch/.kaggle/kaggle.json'\n",
      "Downloading hulu-tv-shows-and-movies.zip to /Users/haydenlynch/Desktop/Python/Python Practice/Api request practice\n",
      "100%|██████████████████████████████████████| 0.99M/0.99M [00:00<00:00, 2.52MB/s]\n",
      "100%|██████████████████████████████████████| 0.99M/0.99M [00:00<00:00, 2.50MB/s]\n"
     ]
    }
   ],
   "source": [
    "!kaggle datasets download -d 'victorsoeiro/hulu-tv-shows-and-movies'"
   ]
  },
  {
   "cell_type": "code",
   "execution_count": 17,
   "metadata": {},
   "outputs": [
    {
     "name": "stdout",
     "output_type": "stream",
     "text": [
      "Archive:  hulu-tv-shows-and-movies.zip\n",
      "  inflating: data/credits.csv        \n",
      "  inflating: data/titles.csv         \n"
     ]
    }
   ],
   "source": [
    "!unzip hulu-tv-shows-and-movies.zip -d data/"
   ]
  },
  {
   "cell_type": "code",
   "execution_count": 18,
   "metadata": {},
   "outputs": [],
   "source": [
    "!mv data/credits.csv data/actors.csv"
   ]
  },
  {
   "cell_type": "code",
   "execution_count": 19,
   "metadata": {},
   "outputs": [],
   "source": [
    "!mv data/titles.csv data/movies_tvshows_data.csv"
   ]
  },
  {
   "cell_type": "code",
   "execution_count": 20,
   "metadata": {},
   "outputs": [
    {
     "name": "stdout",
     "output_type": "stream",
     "text": [
      "actors.csv              movies_tvshows_data.csv\n"
     ]
    }
   ],
   "source": [
    "!cd data && ls"
   ]
  },
  {
   "cell_type": "code",
   "execution_count": 21,
   "metadata": {},
   "outputs": [
    {
     "name": "stdout",
     "output_type": "stream",
     "text": [
      "Collecting pyspark\n",
      "  Downloading pyspark-3.3.1.tar.gz (281.4 MB)\n",
      "\u001b[2K     \u001b[90m━━━━━━━━━━━━━━━━━━━━━━━━━━━━━━━━━━━━━━━\u001b[0m \u001b[32m281.4/281.4 MB\u001b[0m \u001b[31m1.1 MB/s\u001b[0m eta \u001b[36m0:00:00\u001b[0m00:01\u001b[0m00:02\u001b[0m\n",
      "\u001b[?25h  Preparing metadata (setup.py) ... \u001b[?25ldone\n",
      "\u001b[?25hCollecting py4j==0.10.9.5\n",
      "  Downloading py4j-0.10.9.5-py2.py3-none-any.whl (199 kB)\n",
      "\u001b[2K     \u001b[90m━━━━━━━━━━━━━━━━━━━━━━━━━━━━━━━━━━━━━━━\u001b[0m \u001b[32m199.7/199.7 kB\u001b[0m \u001b[31m2.8 MB/s\u001b[0m eta \u001b[36m0:00:00\u001b[0ma \u001b[36m0:00:01\u001b[0m\n",
      "\u001b[?25hInstalling collected packages: py4j, pyspark\n",
      "\u001b[33m  DEPRECATION: pyspark is being installed using the legacy 'setup.py install' method, because it does not have a 'pyproject.toml' and the 'wheel' package is not installed. pip 23.1 will enforce this behaviour change. A possible replacement is to enable the '--use-pep517' option. Discussion can be found at https://github.com/pypa/pip/issues/8559\u001b[0m\u001b[33m\n",
      "\u001b[0m  Running setup.py install for pyspark ... \u001b[?25ldone\n",
      "\u001b[?25hSuccessfully installed py4j-0.10.9.5 pyspark-3.3.1\n"
     ]
    }
   ],
   "source": [
    "!pip install pyspark"
   ]
  },
  {
   "cell_type": "code",
   "execution_count": 17,
   "metadata": {},
   "outputs": [
    {
     "name": "stdout",
     "output_type": "stream",
     "text": [
      "Collecting numpy\n",
      "  Downloading numpy-1.24.1-cp39-cp39-macosx_10_9_x86_64.whl (19.8 MB)\n",
      "\u001b[2K     \u001b[90m━━━━━━━━━━━━━━━━━━━━━━━━━━━━━━━━━━━━━━━━\u001b[0m \u001b[32m19.8/19.8 MB\u001b[0m \u001b[31m3.6 MB/s\u001b[0m eta \u001b[36m0:00:00\u001b[0m00:01\u001b[0m00:01\u001b[0m\n",
      "\u001b[?25hInstalling collected packages: numpy\n",
      "Successfully installed numpy-1.24.1\n",
      "Note: you may need to restart the kernel to use updated packages.\n"
     ]
    }
   ],
   "source": [
    "pip install numpy"
   ]
  },
  {
   "cell_type": "code",
   "execution_count": 1,
   "metadata": {},
   "outputs": [],
   "source": [
    "import numpy"
   ]
  },
  {
   "cell_type": "code",
   "execution_count": 7,
   "metadata": {},
   "outputs": [
    {
     "name": "stdout",
     "output_type": "stream",
     "text": [
      "Collecting pandas\n",
      "  Downloading pandas-1.5.2-cp39-cp39-macosx_10_9_x86_64.whl (12.1 MB)\n",
      "\u001b[2K     \u001b[90m━━━━━━━━━━━━━━━━━━━━━━━━━━━━━━━━━━━━━━━━\u001b[0m \u001b[32m12.1/12.1 MB\u001b[0m \u001b[31m3.5 MB/s\u001b[0m eta \u001b[36m0:00:00\u001b[0m00:01\u001b[0m00:01\u001b[0m\n",
      "\u001b[?25hCollecting pytz>=2020.1\n",
      "  Downloading pytz-2022.7-py2.py3-none-any.whl (499 kB)\n",
      "\u001b[2K     \u001b[90m━━━━━━━━━━━━━━━━━━━━━━━━━━━━━━━━━━━━━━━\u001b[0m \u001b[32m499.4/499.4 kB\u001b[0m \u001b[31m2.9 MB/s\u001b[0m eta \u001b[36m0:00:00\u001b[0m00:01\u001b[0m00:01\u001b[0m\n",
      "\u001b[?25hRequirement already satisfied: numpy>=1.20.3 in /Library/Frameworks/Python.framework/Versions/3.9/lib/python3.9/site-packages (from pandas) (1.24.1)\n",
      "Requirement already satisfied: python-dateutil>=2.8.1 in /Users/haydenlynch/Library/Python/3.9/lib/python/site-packages (from pandas) (2.8.2)\n",
      "Requirement already satisfied: six>=1.5 in /Users/haydenlynch/Library/Python/3.9/lib/python/site-packages (from python-dateutil>=2.8.1->pandas) (1.16.0)\n",
      "Installing collected packages: pytz, pandas\n",
      "Successfully installed pandas-1.5.2 pytz-2022.7\n",
      "Note: you may need to restart the kernel to use updated packages.\n"
     ]
    }
   ],
   "source": [
    "pip install pandas"
   ]
  },
  {
   "cell_type": "code",
   "execution_count": 1,
   "metadata": {},
   "outputs": [],
   "source": [
    "import pandas as pd"
   ]
  },
  {
   "cell_type": "code",
   "execution_count": 16,
   "metadata": {},
   "outputs": [],
   "source": [
    "from pyspark.sql import SparkSession \n",
    "\n",
    "spark = SparkSession.builder.appName('movie_tvshow_data').getOrCreate()"
   ]
  },
  {
   "cell_type": "code",
   "execution_count": 17,
   "metadata": {},
   "outputs": [],
   "source": [
    "data_frame = spark.read.csv('data/movies_tvshows_data.csv', header=True, inferSchema=True)"
   ]
  },
  {
   "cell_type": "code",
   "execution_count": 9,
   "metadata": {},
   "outputs": [
    {
     "name": "stdout",
     "output_type": "stream",
     "text": [
      "root\n",
      " |-- id: string (nullable = true)\n",
      " |-- title: string (nullable = true)\n",
      " |-- type: string (nullable = true)\n",
      " |-- description: string (nullable = true)\n",
      " |-- release_year: string (nullable = true)\n",
      " |-- age_certification: string (nullable = true)\n",
      " |-- runtime: string (nullable = true)\n",
      " |-- genres: string (nullable = true)\n",
      " |-- production_countries: string (nullable = true)\n",
      " |-- seasons: string (nullable = true)\n",
      " |-- imdb_id: string (nullable = true)\n",
      " |-- imdb_score: string (nullable = true)\n",
      " |-- imdb_votes: string (nullable = true)\n",
      " |-- tmdb_popularity: string (nullable = true)\n",
      " |-- tmdb_score: string (nullable = true)\n",
      "\n"
     ]
    }
   ],
   "source": [
    "data_frame.printSchema()"
   ]
  },
  {
   "cell_type": "code",
   "execution_count": 15,
   "metadata": {},
   "outputs": [
    {
     "name": "stdout",
     "output_type": "stream",
     "text": [
      "+-------+--------------------+----+--------------------+------------+-----------------+-------+--------------------+--------------------+-------+---------+----------+----------+---------------+----------+\n",
      "|     id|               title|type|         description|release_year|age_certification|runtime|              genres|production_countries|seasons|  imdb_id|imdb_score|imdb_votes|tmdb_popularity|tmdb_score|\n",
      "+-------+--------------------+----+--------------------+------------+-----------------+-------+--------------------+--------------------+-------+---------+----------+----------+---------------+----------+\n",
      "|ts20475| Saturday Night Live|SHOW|A late-night live...|        1975|            TV-14|     89| ['music', 'comedy']|              ['US']|   47.0|tt0072562|       8.0|   47910.0|         54.345|       6.9|\n",
      "|ts20413|             M*A*S*H|SHOW|The 4077th Mobile...|        1972|            TV-PG|     26|['war', 'comedy',...|              ['US']|   11.0|tt0068098|       8.4|   55882.0|         27.308|       8.0|\n",
      "|ts20005|         I Love Lucy|SHOW|Cuban Bandleader ...|        1951|             TV-G|     30|['comedy', 'family']|              ['US']|    9.0|tt0043208|       8.5|   25944.0|         17.088|       8.1|\n",
      "|ts20669|                Taxi|SHOW|Louie De Palma is...|        1978|            TV-PG|     25| ['drama', 'comedy']|              ['US']|    5.0|tt0077089|       7.7|   13379.0|         14.346|       7.3|\n",
      "|ts21049|The Mary Tyler Mo...|SHOW|30-year-old singl...|        1970|            TV-PG|     28|          ['comedy']|              ['US']|    7.0|tt0065314|       8.2|    8692.0|           9.29|       7.5|\n",
      "+-------+--------------------+----+--------------------+------------+-----------------+-------+--------------------+--------------------+-------+---------+----------+----------+---------------+----------+\n",
      "only showing top 5 rows\n",
      "\n"
     ]
    }
   ],
   "source": [
    "data_frame.show(5)"
   ]
  },
  {
   "cell_type": "code",
   "execution_count": 18,
   "metadata": {},
   "outputs": [
    {
     "ename": "ValueError",
     "evalue": "should sort by at least one column",
     "output_type": "error",
     "traceback": [
      "\u001b[0;31m---------------------------------------------------------------------------\u001b[0m",
      "\u001b[0;31mValueError\u001b[0m                                Traceback (most recent call last)",
      "Cell \u001b[0;32mIn [18], line 1\u001b[0m\n\u001b[0;32m----> 1\u001b[0m data_frame\u001b[39m.\u001b[39;49msort(axis\u001b[39m=\u001b[39;49m\u001b[39m11\u001b[39;49m)\n",
      "File \u001b[0;32m/Library/Frameworks/Python.framework/Versions/3.9/lib/python3.9/site-packages/pyspark/sql/dataframe.py:1730\u001b[0m, in \u001b[0;36mDataFrame.sort\u001b[0;34m(self, *cols, **kwargs)\u001b[0m\n\u001b[1;32m   1695\u001b[0m \u001b[39mdef\u001b[39;00m \u001b[39msort\u001b[39m(\n\u001b[1;32m   1696\u001b[0m     \u001b[39mself\u001b[39m, \u001b[39m*\u001b[39mcols: Union[\u001b[39mstr\u001b[39m, Column, List[Union[\u001b[39mstr\u001b[39m, Column]]], \u001b[39m*\u001b[39m\u001b[39m*\u001b[39mkwargs: Any\n\u001b[1;32m   1697\u001b[0m ) \u001b[39m-\u001b[39m\u001b[39m>\u001b[39m \u001b[39m\"\u001b[39m\u001b[39mDataFrame\u001b[39m\u001b[39m\"\u001b[39m:\n\u001b[1;32m   1698\u001b[0m     \u001b[39m\"\"\"Returns a new :class:`DataFrame` sorted by the specified column(s).\u001b[39;00m\n\u001b[1;32m   1699\u001b[0m \n\u001b[1;32m   1700\u001b[0m \u001b[39m    .. versionadded:: 1.3.0\u001b[39;00m\n\u001b[0;32m   (...)\u001b[0m\n\u001b[1;32m   1728\u001b[0m \u001b[39m    [Row(age=5, name='Bob'), Row(age=2, name='Alice')]\u001b[39;00m\n\u001b[1;32m   1729\u001b[0m \u001b[39m    \"\"\"\u001b[39;00m\n\u001b[0;32m-> 1730\u001b[0m     jdf \u001b[39m=\u001b[39m \u001b[39mself\u001b[39m\u001b[39m.\u001b[39m_jdf\u001b[39m.\u001b[39msort(\u001b[39mself\u001b[39;49m\u001b[39m.\u001b[39;49m_sort_cols(cols, kwargs))\n\u001b[1;32m   1731\u001b[0m     \u001b[39mreturn\u001b[39;00m DataFrame(jdf, \u001b[39mself\u001b[39m\u001b[39m.\u001b[39msparkSession)\n",
      "File \u001b[0;32m/Library/Frameworks/Python.framework/Versions/3.9/lib/python3.9/site-packages/pyspark/sql/dataframe.py:1761\u001b[0m, in \u001b[0;36mDataFrame._sort_cols\u001b[0;34m(self, cols, kwargs)\u001b[0m\n\u001b[1;32m   1759\u001b[0m \u001b[39m\"\"\"Return a JVM Seq of Columns that describes the sort order\"\"\"\u001b[39;00m\n\u001b[1;32m   1760\u001b[0m \u001b[39mif\u001b[39;00m \u001b[39mnot\u001b[39;00m cols:\n\u001b[0;32m-> 1761\u001b[0m     \u001b[39mraise\u001b[39;00m \u001b[39mValueError\u001b[39;00m(\u001b[39m\"\u001b[39m\u001b[39mshould sort by at least one column\u001b[39m\u001b[39m\"\u001b[39m)\n\u001b[1;32m   1762\u001b[0m \u001b[39mif\u001b[39;00m \u001b[39mlen\u001b[39m(cols) \u001b[39m==\u001b[39m \u001b[39m1\u001b[39m \u001b[39mand\u001b[39;00m \u001b[39misinstance\u001b[39m(cols[\u001b[39m0\u001b[39m], \u001b[39mlist\u001b[39m):\n\u001b[1;32m   1763\u001b[0m     cols \u001b[39m=\u001b[39m cols[\u001b[39m0\u001b[39m]\n",
      "\u001b[0;31mValueError\u001b[0m: should sort by at least one column"
     ]
    }
   ],
   "source": [
    "data_frame.sort(axis=11)"
   ]
  },
  {
   "cell_type": "code",
   "execution_count": 2,
   "metadata": {},
   "outputs": [],
   "source": [
    "from pyspark.ml.feature import StringIndexer"
   ]
  }
 ],
 "metadata": {
  "kernelspec": {
   "display_name": "Python 3",
   "language": "python",
   "name": "python3"
  },
  "language_info": {
   "codemirror_mode": {
    "name": "ipython",
    "version": 3
   },
   "file_extension": ".py",
   "mimetype": "text/x-python",
   "name": "python",
   "nbconvert_exporter": "python",
   "pygments_lexer": "ipython3",
   "version": "3.9.7"
  },
  "orig_nbformat": 4,
  "vscode": {
   "interpreter": {
    "hash": "aee8b7b246df8f9039afb4144a1f6fd8d2ca17a180786b69acc140d282b71a49"
   }
  }
 },
 "nbformat": 4,
 "nbformat_minor": 2
}
