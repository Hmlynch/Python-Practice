{
 "cells": [
  {
   "cell_type": "markdown",
   "metadata": {},
   "source": [
    "## Python Programming Exercises"
   ]
  },
  {
   "cell_type": "markdown",
   "metadata": {},
   "source": [
    "#### Level 1: Beginner Questions:"
   ]
  },
  {
   "cell_type": "markdown",
   "metadata": {},
   "source": [
    "Question 1:\n",
    "\n",
    "Write a program which will find all such numbers which are divisible by 7 but are not a multiple of 5,\n",
    "between 2000 and 3200 (both included).\n",
    "The numbers obtained should be printed in a comma-separated sequence on a single line.\n",
    "\n",
    "Hint: Consider use range (#begin, #end) method"
   ]
  },
  {
   "cell_type": "code",
   "execution_count": 11,
   "metadata": {},
   "outputs": [
    {
     "data": {
      "text/plain": [
       "'2030,2065,2100,2135,2170,2205,2240,2275,2310,2345,2380,2415,2450,2485,2520,2555,2590,2625,2660,2695,2730,2765,2800,2835,2870,2905,2940,2975,3010,3045,3080,3115,3150,3185'"
      ]
     },
     "execution_count": 11,
     "metadata": {},
     "output_type": "execute_result"
    }
   ],
   "source": [
    "# Create an empty list for later use to append numbers to list\n",
    "# create a \"for\" loop with a range of (2000, 3201) for the loops parameters\n",
    "# create if statement to determine whether 7 can be divisable or if 5\n",
    "# can be divisable\n",
    "\n",
    "start = 2000\n",
    "end = 3201\n",
    "\n",
    "def for_loop(start, end):\n",
    "    a_list = []\n",
    "    for i in range(start, end):\n",
    "        if i % 7 == 0 and i % 5 == 0:\n",
    "            a_list.append(str(i))\n",
    "    return ','.join(a_list)\n",
    "\n",
    "for_loop(start, end)"
   ]
  },
  {
   "cell_type": "code",
   "execution_count": 5,
   "metadata": {},
   "outputs": [
    {
     "name": "stdout",
     "output_type": "stream",
     "text": [
      "2030,2065,2100,2135,2170,2205,2240,2275,2310,2345,2380,2415,2450,2485,2520,2555,2590,2625,2660,2695,2730,2765,2800,2835,2870,2905,2940,2975,3010,3045,3080,3115,3150,3185\n"
     ]
    }
   ],
   "source": [
    "# Github Solution:\n",
    "l = []\n",
    "for i in range(2000, 3201):\n",
    "    if i%7==0 and i%5==0:\n",
    "        l.append(str(i))\n",
    "print(','.join(l))"
   ]
  },
  {
   "cell_type": "markdown",
   "metadata": {},
   "source": [
    "Question 2:\n",
    "\n",
    "Write a program which can compute the factorial of a given numbers.\n",
    "The results should be printed in a comma-separated sequence on a single line.\n",
    "Suppose the following input is supplied to the program:\n",
    "\n",
    "8\n",
    "\n",
    "Then, the output should be:\n",
    "\n",
    "40320\n",
    "\n",
    "Hints:\n",
    "In case of input data being supplied to the question, it should be assumed to be a console input."
   ]
  },
  {
   "cell_type": "code",
   "execution_count": 13,
   "metadata": {},
   "outputs": [
    {
     "data": {
      "text/plain": [
       "40320"
      ]
     },
     "execution_count": 13,
     "metadata": {},
     "output_type": "execute_result"
    }
   ],
   "source": [
    "# Factorial is multiplying the given number by itslef -1 until it reaches zero.\n",
    "# define the function as a factorial function\n",
    "# create a if statement determining what happens if the given number equals zero.\n",
    "# otherwise return the formula for a factorial number\n",
    "\n",
    "def factorial(x):\n",
    "    if x == 0:\n",
    "        return 1\n",
    "    else:\n",
    "        return x * factorial(x - 1)\n",
    "\n",
    "factorial(8)"
   ]
  },
  {
   "cell_type": "markdown",
   "metadata": {},
   "source": [
    "Question 3:\n",
    "\n",
    "With a given integral number n, write a program to generate a dictionary that contains (i, i*i) such that is an integral number between 1 and n (both included). and then the program should print the dictionary.\n",
    "\n",
    "Suppose the following input is supplied to the program:\n",
    "\n",
    "8\n",
    "\n",
    "Then, the output should be:\n",
    "\n",
    "{1: 1, 2: 4, 3: 9, 4: 16, 5: 25, 6: 36, 7: 49, 8: 64}\n",
    "\n",
    "Hints:\n",
    "\n",
    "In case of input data being supplied to the question, it should be assumed to be a console input.\n",
    "Consider use dict()\n"
   ]
  },
  {
   "cell_type": "code",
   "execution_count": 17,
   "metadata": {},
   "outputs": [
    {
     "data": {
      "text/plain": [
       "{1: 1, 2: 4, 3: 9, 4: 16, 5: 25, 6: 36, 7: 49, 8: 64}"
      ]
     },
     "execution_count": 17,
     "metadata": {},
     "output_type": "execute_result"
    }
   ],
   "source": [
    "# determine how the method will recieve the number\n",
    "# then create an empty dictionary to hold the keys and values\n",
    "# create a for loop giving the range of 'i' \n",
    "# display what the keys and values will look like in the dictionary\n",
    "# return the dictionary\n",
    "\n",
    "def integral(n):\n",
    "    empty_dict = {}\n",
    "    for i in range(1, n+1):\n",
    "        empty_dict[i] = i * i\n",
    "    return empty_dict\n",
    "\n",
    "integral(8)"
   ]
  },
  {
   "cell_type": "code",
   "execution_count": 18,
   "metadata": {},
   "outputs": [
    {
     "ename": "NameError",
     "evalue": "name 'raw_input' is not defined",
     "output_type": "error",
     "traceback": [
      "\u001b[0;31m---------------------------------------------------------------------------\u001b[0m",
      "\u001b[0;31mNameError\u001b[0m                                 Traceback (most recent call last)",
      "Cell \u001b[0;32mIn [18], line 3\u001b[0m\n\u001b[1;32m      1\u001b[0m \u001b[39m# Github Solution:\u001b[39;00m\n\u001b[0;32m----> 3\u001b[0m n\u001b[39m=\u001b[39m\u001b[39mint\u001b[39m(raw_input())\n\u001b[1;32m      4\u001b[0m d\u001b[39m=\u001b[39m\u001b[39mdict\u001b[39m()\n\u001b[1;32m      5\u001b[0m \u001b[39mfor\u001b[39;00m i \u001b[39min\u001b[39;00m \u001b[39mrange\u001b[39m(\u001b[39m1\u001b[39m, n\u001b[39m+\u001b[39m\u001b[39m1\u001b[39m):\n",
      "\u001b[0;31mNameError\u001b[0m: name 'raw_input' is not defined"
     ]
    }
   ],
   "source": [
    "# Github Solution:\n",
    "\n",
    "n=int(raw_input())\n",
    "d=dict()\n",
    "for i in range(1, n+1):\n",
    "    d[i] = i * i\n",
    "\n",
    "print(d)"
   ]
  },
  {
   "cell_type": "markdown",
   "metadata": {},
   "source": [
    "Question 4:\n",
    "\n",
    "Write a program which accepts a sequence of comma-separated numbers from console and generate a list and a tuple which contains every number.\n",
    "\n",
    "Suppose the following input is supplied to the program:\n",
    "34,67,55,33,12,98\n",
    "\n",
    "Then, the output should be:\n",
    "['34', '67', '55', '33', '12', '98']\n",
    "('34', '67', '55', '33', '12', '98')\n",
    "\n",
    "Hints:\n",
    "In case of input data being supplied to the question, it should be assumed to be a console input.\n",
    "tuple() method can convert list to tuple\n"
   ]
  },
  {
   "cell_type": "code",
   "execution_count": 21,
   "metadata": {},
   "outputs": [
    {
     "name": "stdout",
     "output_type": "stream",
     "text": [
      "[34, 67, 55, 33, 12, 98]\n",
      "(34, 67, 55, 33, 12, 98)\n"
     ]
    }
   ],
   "source": [
    "# first define the function of integers in the parameters\n",
    "# have those integers be equal to a variable\n",
    "# create a function that will return them as a list\n",
    "# and create a function that will return them as a tuple\n",
    "\n",
    "values = 34,67,55,33,12,98\n",
    "\n",
    "def get_int(values):\n",
    "    a_list = []\n",
    "    for i in values:\n",
    "        a_list.append(i)\n",
    "    print(a_list)\n",
    "    print(tuple(a_list))\n",
    "\n",
    "get_int(values)"
   ]
  },
  {
   "cell_type": "code",
   "execution_count": null,
   "metadata": {},
   "outputs": [],
   "source": [
    "# Github Solution:\n",
    "\n",
    "values=raw_input()\n",
    "l=values.split(\",\")\n",
    "t=tuple(l)\n",
    "print(l)\n",
    "print(t)"
   ]
  },
  {
   "cell_type": "markdown",
   "metadata": {},
   "source": [
    "Question 5:\n",
    "\n",
    "Define a class which has at least two methods:\n",
    "\n",
    "getString: to get a string from console input\n",
    "\n",
    "printString: to print the string in upper case.\n",
    "\n",
    "Also please include simple test function to test the class methods.\n",
    "\n",
    "Hints:\n",
    "Use __init__ method to construct some parameters"
   ]
  },
  {
   "cell_type": "code",
   "execution_count": 23,
   "metadata": {},
   "outputs": [
    {
     "name": "stdout",
     "output_type": "stream",
     "text": [
      "HAYDEN\n"
     ]
    }
   ],
   "source": [
    "# First, create a class for input/output of strings\n",
    "# use the __init__() method to initialize the class\n",
    "    # inside the __init__ function, define self\n",
    "# define the first defined function, get_string()\n",
    "    # include user input\n",
    "# define the second defined function, print_string()\n",
    "    # include printing the string\n",
    "# lastly call the functions in a driver method\n",
    "\n",
    "class Input_Strings():\n",
    "    def __init__(self):\n",
    "        self.s = \"\"\n",
    "\n",
    "    def get_string(self):\n",
    "        self.s = input(\"Type anything.\")\n",
    "\n",
    "    def print_string(self):\n",
    "        print(self.s.upper())\n",
    "\n",
    "strObj = Input_Strings()\n",
    "strObj.get_string()\n",
    "strObj.print_string()"
   ]
  },
  {
   "cell_type": "markdown",
   "metadata": {},
   "source": [
    "Question 6:\n",
    "\n",
    "Write a program that calculates and prints the value according to the given formula:\n",
    "\n",
    "Q = Square root of [(2 * C * D)/H]\n",
    "\n",
    "Following are the fixed values of C and H:\n",
    "C is 50. H is 30.\n",
    "\n",
    "D is the variable whose values should be input to your program in a comma-separated sequence.\n",
    "\n",
    "Example\n",
    "Let us assume the following comma separated input sequence is given to the program:\n",
    "100,150,180\n",
    "\n",
    "The output of the program should be:\n",
    "18,22,24\n",
    "\n",
    "Hints:\n",
    "If the output received is in decimal form, it should be rounded off to its nearest value (for example, if the output received is 26.0, it should be printed as 26)\n",
    "In case of input data being supplied to the question, it should be assumed to be a console input. \n"
   ]
  },
  {
   "cell_type": "code",
   "execution_count": 11,
   "metadata": {},
   "outputs": [
    {
     "data": {
      "text/plain": [
       "[18, 22, 24]"
      ]
     },
     "execution_count": 11,
     "metadata": {},
     "output_type": "execute_result"
    }
   ],
   "source": [
    "c = 50\n",
    "h = 30\n",
    "def sqrt_fun(d_string):\n",
    "    values = []\n",
    "    vari = d_string.split(\",\")\n",
    "    for i in vari:\n",
    "        i = int(i)\n",
    "        formula = round(((2*c*i)/h)**.5)\n",
    "        values.append(formula)\n",
    "    return values\n",
    "\n",
    "        \n",
    "\n",
    "sqrt_fun('100,150,180')\n",
    "#####RECIEVE HELP FOR THIS QUESTION######\n"
   ]
  },
  {
   "cell_type": "code",
   "execution_count": null,
   "metadata": {},
   "outputs": [],
   "source": [
    "#!/usr/bin/env python\n",
    "import math \n",
    "c = 50\n",
    "h = 30 \n",
    "value = []\n",
    "\n",
    "items = [x for x in raw_input().split(\",\")]\n",
    "for d in items:\n",
    "    value.append(str(int(round(math.sqrt(2*c*float(d)/h)))))\n",
    "\n",
    "print(','.join(values))"
   ]
  },
  {
   "cell_type": "markdown",
   "metadata": {},
   "source": [
    "Question 7:\n",
    "\n",
    "Write a program which takes 2 digits, X,Y as input and generates a 2-dimensional array. The element value in the i-th row and j-th column of the array should be i*j.\n",
    "Note: i=0,1.., X-1; j=0,1,¡­Y-1.\n",
    "\n",
    "Example\n",
    "\n",
    "Suppose the following inputs are given to the program:\n",
    "3,5\n",
    "\n",
    "Then, the output of the program should be:\n",
    "[[0, 0, 0, 0, 0], [0, 1, 2, 3, 4], [0, 2, 4, 6, 8]] \n",
    "\n",
    "Hints:\n",
    "\n",
    "Note: In case of input data being supplied to the question, it should be assumed to be a console input in a comma-separated form.\n"
   ]
  },
  {
   "cell_type": "code",
   "execution_count": 33,
   "metadata": {},
   "outputs": [
    {
     "ename": "TypeError",
     "evalue": "int() argument must be a string, a bytes-like object or a number, not 'list'",
     "output_type": "error",
     "traceback": [
      "\u001b[0;31m---------------------------------------------------------------------------\u001b[0m",
      "\u001b[0;31mTypeError\u001b[0m                                 Traceback (most recent call last)",
      "Cell \u001b[0;32mIn [33], line 20\u001b[0m\n\u001b[1;32m     17\u001b[0m             multi_list[row][col] \u001b[39m=\u001b[39m row \u001b[39m*\u001b[39m col\n\u001b[1;32m     18\u001b[0m     \u001b[39mreturn\u001b[39;00m multi_list\n\u001b[0;32m---> 20\u001b[0m multiple_list(\u001b[39m3\u001b[39;49m,\u001b[39m5\u001b[39;49m)\n",
      "Cell \u001b[0;32mIn [33], line 13\u001b[0m, in \u001b[0;36mmultiple_list\u001b[0;34m(row, col)\u001b[0m\n\u001b[1;32m     11\u001b[0m row_list \u001b[39m=\u001b[39m [\u001b[39m0\u001b[39m]\n\u001b[1;32m     12\u001b[0m col_list \u001b[39m=\u001b[39m [\u001b[39m1\u001b[39m]\n\u001b[0;32m---> 13\u001b[0m multi_list \u001b[39m=\u001b[39m [[\u001b[39m0\u001b[39m \u001b[39mfor\u001b[39;00m i \u001b[39min\u001b[39;00m \u001b[39mrange\u001b[39m(\u001b[39mint\u001b[39m(col_list))] \u001b[39mfor\u001b[39;00m j \u001b[39min\u001b[39;00m \u001b[39mrange\u001b[39m(\u001b[39mint\u001b[39;49m(row_list))]\n\u001b[1;32m     15\u001b[0m \u001b[39mfor\u001b[39;00m row \u001b[39min\u001b[39;00m \u001b[39mrange\u001b[39m(row_list):\n\u001b[1;32m     16\u001b[0m     \u001b[39mfor\u001b[39;00m col \u001b[39min\u001b[39;00m \u001b[39mrange\u001b[39m(col_list):\n",
      "\u001b[0;31mTypeError\u001b[0m: int() argument must be a string, a bytes-like object or a number, not 'list'"
     ]
    }
   ],
   "source": [
    "# define the function\n",
    "# determine the range of the array\n",
    "# determine starting points for the array\n",
    "# determine the number of elements in the array\n",
    "# determine the size of the array\n",
    "# create a multi-list that the elements will be stored in\n",
    "# create a for loop for both the col and row\n",
    "# append the arrays to the multi-list with the correct formula emplemented\n",
    "\n",
    "def multiple_list(row,col):\n",
    "    row_list = [0]\n",
    "    col_list = [1]\n",
    "    multi_list = [[0 for i in range(col_list)] for j in range(row_list)]\n",
    "\n",
    "    for row in range(row_list):\n",
    "        for col in range(col_list):\n",
    "            multi_list[row][col] = row * col\n",
    "    return multi_list\n",
    "    \n",
    "multiple_list(3,5)\n",
    "\n"
   ]
  },
  {
   "cell_type": "markdown",
   "metadata": {},
   "source": [
    "Question 8:\n",
    "\n",
    "Write a program that accepts a comma separated sequence of words as input and prints the words in a comma-separated sequence after sorting them alphabetically.\n",
    "\n",
    "Suppose the following input is supplied to the program:\n",
    "\n",
    "without,hello,bag,world\n",
    "\n",
    "Then, the output should be:\n",
    "\n",
    "bag,hello,without,world\n",
    "\n",
    "Hints:\n",
    "In case of input data being supplied to the question, it should be assumed to be a console input.\n"
   ]
  },
  {
   "cell_type": "code",
   "execution_count": 14,
   "metadata": {},
   "outputs": [
    {
     "name": "stdout",
     "output_type": "stream",
     "text": [
      "['bag', 'hello', 'without', 'world']\n"
     ]
    },
    {
     "data": {
      "text/plain": [
       "'bag,hello,without,world'"
      ]
     },
     "execution_count": 14,
     "metadata": {},
     "output_type": "execute_result"
    }
   ],
   "source": [
    "# determine the function parameter\n",
    "# write a for loop that will split the string\n",
    "# once split, use the sort() function to sort the string aphabetically\n",
    "# return the function by join() with a \",\" comma seperating the words\n",
    "\n",
    "word_list = ('without,hello,bag,world')\n",
    "\n",
    "def sort_words(words):\n",
    "    new_words = words.split(\",\")\n",
    "    new_words.sort()\n",
    "    print(new_words)\n",
    "    return \",\".join(new_words)\n",
    "\n",
    "sort_words(word_list)"
   ]
  },
  {
   "cell_type": "code",
   "execution_count": null,
   "metadata": {},
   "outputs": [],
   "source": [
    "# Github Solution:\n",
    "\n",
    "items = [x for x in raw_input().split(',')]\n",
    "items.sort()\n",
    "print(','.join(items))"
   ]
  },
  {
   "cell_type": "markdown",
   "metadata": {},
   "source": [
    "Question 9:\n",
    "\n",
    "Write a program that accepts sequence of lines as input and prints the lines after making all characters in the sentence capitalized.\n",
    "\n",
    "Suppose the following input is supplied to the program:\n",
    "\n",
    "Hello world\n",
    "\n",
    "Practice makes perfect\n",
    "\n",
    "Then, the output should be:\n",
    "\n",
    "HELLO WORLD\n",
    "\n",
    "PRACTICE MAKES PERFECT\n",
    "\n",
    "Hints:\n",
    "In case of input data being supplied to the question, it should be assumed to be a console input.\n"
   ]
  },
  {
   "cell_type": "code",
   "execution_count": 3,
   "metadata": {},
   "outputs": [
    {
     "data": {
      "text/plain": [
       "'HELLO WORLD PRACTICE MAKES PERFECT'"
      ]
     },
     "execution_count": 3,
     "metadata": {},
     "output_type": "execute_result"
    }
   ],
   "source": [
    "# determine the functions parameters\n",
    "# Then create a empty list to store the parameters once they have been minipulated.\n",
    "# Then create a while loop that will run until each word has been capitalized\n",
    "# set the original parameters = to a variable\n",
    "# create a if statement that will append the parameters as a capitalized word\n",
    "# add an else statement that will finish the while loop and break from it once every word has been capitalized\n",
    "# finally, create a for loop that will merge the new words back into a sentence\n",
    "\n",
    "words_string = \"Hello world Practice makes perfect\"\n",
    "\n",
    "def capitalize(words):\n",
    "    cap_words = []\n",
    "    while True:\n",
    "        for word in words:\n",
    "            if word:\n",
    "                cap_words.append(words.upper())\n",
    "        else:\n",
    "            break\n",
    "    for sentence in cap_words:\n",
    "        return sentence\n",
    "\n",
    "capitalize(words_string)\n"
   ]
  },
  {
   "cell_type": "markdown",
   "metadata": {},
   "source": [
    "Question 10:\n",
    "\n",
    "Write a program that accepts a sequence of whitespace separated words as input and prints the words after removing all duplicate words and sorting them alphanumerically.\n",
    "\n",
    "Suppose the following input is supplied to the program:\n",
    "\n",
    "hello world and practice makes perfect and hello world again\n",
    "\n",
    "Then, the output should be:\n",
    "\n",
    "again and hello makes perfect practice world\n",
    "\n",
    "Hints:\n",
    "\n",
    "In case of input data being supplied to the question, it should be assumed to be a console input.\n",
    "\n",
    "We use set container to remove duplicated data automatically and then use sorted() to sort the data."
   ]
  },
  {
   "cell_type": "code",
   "execution_count": 36,
   "metadata": {},
   "outputs": [
    {
     "name": "stdout",
     "output_type": "stream",
     "text": [
      "['hello', 'world', 'and', 'practice', 'makes', 'perfect', 'and', 'hello', 'world', 'again']\n",
      "{'perfect', 'and', 'hello', 'world', 'makes', 'again', 'practice'}\n",
      "['again', 'and', 'hello', 'makes', 'perfect', 'practice', 'world']\n",
      "again and hello makes perfect practice world\n"
     ]
    },
    {
     "data": {
      "text/plain": [
       "'again and hello makes perfect practice world'"
      ]
     },
     "execution_count": 36,
     "metadata": {},
     "output_type": "execute_result"
    }
   ],
   "source": [
    "# Determine a function that will remove each word individually \n",
    "# Add to empty list by spliting the sentence at the space \" \"\n",
    "# After join the item to a string that will be sorted aphabetically\n",
    "# then return the sentence\n",
    "\n",
    "sentence = 'hello world and practice makes perfect and hello world again'\n",
    "\n",
    "def sort_alph(s):\n",
    "    words = [word for word in s.split(\" \")]\n",
    "    # print(words)\n",
    "    # print(set(words))\n",
    "    # print(sorted(set(words)))\n",
    "    print(\" \".join(sorted(list(set(words)))))\n",
    "    return \" \".join(sorted(set(words)))\n",
    "\n",
    "sort_alph(sentence)\n"
   ]
  },
  {
   "cell_type": "markdown",
   "metadata": {},
   "source": [
    "Question 11: \n",
    "\n",
    "Write a program which accepts a sequence of comma separated 4 digit binary numbers as its input and then check whether they are divisible by 5 or not. The numbers that are divisible by 5 are to be printed in a comma separated sequence.\n",
    "\n",
    "Example:\n",
    "0100,0011,1010,1001\n",
    "\n",
    "Then the output should be:\n",
    "1010\n",
    "\n",
    "Notes: Assume the data is input by console.\n",
    "\n",
    "Hints:\n",
    "In case of input data being supplied to the question, it should be assumed to be a console input."
   ]
  },
  {
   "cell_type": "code",
   "execution_count": 60,
   "metadata": {},
   "outputs": [
    {
     "name": "stdout",
     "output_type": "stream",
     "text": [
      "['0100', '0011', '1010', '1001', '0010']\n"
     ]
    },
    {
     "data": {
      "text/plain": [
       "['1010']"
      ]
     },
     "execution_count": 60,
     "metadata": {},
     "output_type": "execute_result"
    }
   ],
   "source": [
    "# split the function at the comma \",\"\n",
    "# create if statement to determine which number is divisable by 5\n",
    "# return the numbers that are to a seperate sequence\n",
    "numbers = '0100,0011,1010,1001,0010'\n",
    "\n",
    "def devisible(d):\n",
    "    new_nums = []\n",
    "    nums = [x for x in d.split(\",\")]\n",
    "    print(nums)\n",
    "    for num in nums:\n",
    "        int_num = int(num,2)\n",
    "        if not int_num % 5:\n",
    "            new_nums.append(num)\n",
    "    return new_nums\n",
    "\n",
    "devisible(numbers)\n"
   ]
  },
  {
   "cell_type": "markdown",
   "metadata": {},
   "source": [
    "Question 12:\n",
    "\n",
    "Write a program, which will find all such numbers between 1000 and 3000 (both included) such that each digit of the number is an even number.\n",
    "The numbers obtained should be printed in a comma-separated sequence on a single line.\n",
    "\n",
    "Hints:\n",
    "In case of input data being supplied to the question, it should be assumed to be a console input."
   ]
  },
  {
   "cell_type": "code",
   "execution_count": null,
   "metadata": {},
   "outputs": [],
   "source": [
    "# create an empty lsit to store numbers\n",
    "# determine the range of the function\n",
    "# create a statement that will test numbers to make sure they are even\n",
    "# return the values within the list\n",
    "\n",
    "def even_nums(x,y):\n",
    "    values = []\n",
    "    for i in range(x,y):\n",
    "        s = str(i)\n",
    "        if (int(s)%2==0):\n",
    "            values.append(s)\n",
    "    return values\n",
    "\n",
    "even_nums(1000,3001)\n",
    "\n",
    "# WORKS!!!!!!\n",
    "# OUTPUT TAKES UP ROOM..."
   ]
  },
  {
   "cell_type": "markdown",
   "metadata": {},
   "source": [
    "Question 13:\n",
    "\n",
    "Write a program that accepts a sentence and calculate the number of letters and digits.\n",
    "Suppose the following input is supplied to the program:\n",
    "\n",
    "hello world! 123\n",
    "\n",
    "Then, the output should be:\n",
    "\n",
    "LETTERS 10\n",
    "\n",
    "DIGITS 3\n",
    "\n",
    "Hints:\n",
    "In case of input data being supplied to the question, it should be assumed to be a console input."
   ]
  },
  {
   "cell_type": "code",
   "execution_count": 78,
   "metadata": {},
   "outputs": [
    {
     "name": "stdout",
     "output_type": "stream",
     "text": [
      "DIGITS 3\n",
      "LETTERS 10\n"
     ]
    }
   ],
   "source": [
    "# make a dictionary to store both DIGITS AND LETTERS as keys \n",
    "# and store their count as values\n",
    "# then create a statement that will accept digits and letters to their rightful section of the dict\n",
    "# if not digit or letter, pass on the function\n",
    "# return both keys\n",
    "\n",
    "phrase = 'hello world! 123'\n",
    "\n",
    "def count_char(sentence):\n",
    "    d = {\"DIGITS\": 0, \"LETTERS\": 0}\n",
    "    for word in sentence:\n",
    "        if word.isdigit():\n",
    "            d[\"DIGITS\"]+=1\n",
    "        elif word.isalpha():\n",
    "            d[\"LETTERS\"]+=1\n",
    "        else:\n",
    "            pass\n",
    "    print(\"DIGITS\", d[\"DIGITS\"])\n",
    "    print(\"LETTERS\", d[\"LETTERS\"])\n",
    "\n",
    "count_char(phrase)\n"
   ]
  },
  {
   "cell_type": "markdown",
   "metadata": {},
   "source": [
    "Question 14:\n",
    "\n",
    "Write a program that accepts a sentence and calculate the number of upper case letters and lower case letters.\n",
    "Suppose the following input is supplied to the program:\n",
    "\n",
    "Hello world!\n",
    "\n",
    "Then, the output should be:\n",
    "\n",
    "UPPER CASE 1\n",
    "\n",
    "LOWER CASE 9\n",
    "\n",
    "Hints:\n",
    "In case of input data being supplied to the question, it should be assumed to be a console input."
   ]
  },
  {
   "cell_type": "code",
   "execution_count": 79,
   "metadata": {},
   "outputs": [
    {
     "name": "stdout",
     "output_type": "stream",
     "text": [
      "UPPER 1\n",
      "LOWER 9\n"
     ]
    }
   ],
   "source": [
    "# make a dictionary that will store UPPERCASE and LOWERCASE letters\n",
    "# write a function that will take each letter out individually\n",
    "# then determine if letter is uppercase or lowercase\n",
    "# then add count to dictionary\n",
    "# return the values of the dictionary\n",
    "\n",
    "phrase = 'Hello world!'\n",
    "\n",
    "def letter_count(sentence):\n",
    "    d = {\"UPPER\":0, \"LOWER\":0}\n",
    "    for i in sentence:\n",
    "        if i.isupper():\n",
    "            d[\"UPPER\"]+=1\n",
    "        elif i.islower():\n",
    "            d[\"LOWER\"]+=1\n",
    "        else:\n",
    "            pass\n",
    "    print(\"UPPER\", d[\"UPPER\"])\n",
    "    print(\"LOWER\", d[\"LOWER\"])\n",
    "\n",
    "letter_count(phrase)"
   ]
  },
  {
   "cell_type": "markdown",
   "metadata": {},
   "source": [
    "Question 15:\n",
    "\n",
    "Write a program that computes the value of a+aa+aaa+aaaa with a given digit as the value of a.\n",
    "\n",
    "Suppose the following input is supplied to the program:\n",
    "\n",
    "9\n",
    "\n",
    "Then, the output should be:\n",
    "\n",
    "11106\n",
    "\n",
    "Hints:\n",
    "In case of input data being supplied to the question, it should be assumed to be a console input."
   ]
  },
  {
   "cell_type": "code",
   "execution_count": 83,
   "metadata": {},
   "outputs": [
    {
     "name": "stdout",
     "output_type": "stream",
     "text": [
      "9\n",
      "99\n",
      "999\n",
      "9999\n"
     ]
    },
    {
     "data": {
      "text/plain": [
       "11106"
      ]
     },
     "execution_count": 83,
     "metadata": {},
     "output_type": "execute_result"
    }
   ],
   "source": [
    "# %s acts as a place holder for a string\n",
    "# add these place holders for as many strings there are in the sequence\n",
    "# then add parentheses around paremeter variable for as many characters in the sequence\n",
    "# return the added function\n",
    "\n",
    "def add_seq(a):\n",
    "    n1 = int(\"%s\" % a)\n",
    "    print(n1)\n",
    "    n2 = int(\"%s%s\" % (a,a))\n",
    "    print(n2)\n",
    "    n3 = int(\"%s%s%s\" % (a,a,a))\n",
    "    print(n3)\n",
    "    n4 = int(\"%s%s%s%s\" % (a,a,a,a))\n",
    "    print(n4)\n",
    "    return (n1+n2+n3+n4)\n",
    "\n",
    "add_seq(9)"
   ]
  },
  {
   "cell_type": "markdown",
   "metadata": {},
   "source": [
    "Question: 16\n",
    "\n",
    "Use a list comprehension to square each odd number in a list. The list is input by a sequence of comma-separated numbers.\n",
    "\n",
    "Suppose the following input is supplied to the program:\n",
    "\n",
    "1,2,3,4,5,6,7,8,9\n",
    "\n",
    "Then, the output should be:\n",
    "\n",
    "1,3,5,7,9\n",
    "\n",
    "Hints:\n",
    "In case of input data being supplied to the question, it should be assumed to be a console input.\n"
   ]
  },
  {
   "cell_type": "code",
   "execution_count": 2,
   "metadata": {},
   "outputs": [
    {
     "data": {
      "text/plain": [
       "[1, 3, 5, 7, 9]"
      ]
     },
     "execution_count": 2,
     "metadata": {},
     "output_type": "execute_result"
    }
   ],
   "source": [
    "# add the list of numbers that will act as the input for this function.\n",
    "# once done, go through each item in this lsit\n",
    "# add a condition that will take each number % 2 \n",
    "# if a number isn't dividible by two, it is an odd number\n",
    "# return the new list\n",
    "\n",
    "example_nums = [1,2,3,4,5,6,7,8,9]\n",
    "\n",
    "def square_odd_nums(nums_list):\n",
    "    odd_nums = []\n",
    "    for i in nums_list:\n",
    "        if i % 2 != 0:\n",
    "            odd_nums.append(i)\n",
    "    return odd_nums\n",
    "\n",
    "square_odd_nums(example_nums)"
   ]
  },
  {
   "cell_type": "markdown",
   "metadata": {},
   "source": [
    "Question 17:\n",
    "\n",
    "Write a program that computes the net amount of a bank account based a transaction log from console input. The transaction log format is shown as following:\n",
    "\n",
    "D 100\n",
    "W 200\n",
    "\n",
    "D means deposit while W means withdrawal.\n",
    "Suppose the following input is supplied to the program:\n",
    "\n",
    "D 300\n",
    "D 300\n",
    "W 200\n",
    "D 100\n",
    "\n",
    "Then, the output should be:\n",
    "500\n",
    "\n",
    "Hints:\n",
    "In case of input data being supplied to the question, it should be assumed to be a console input.\n"
   ]
  },
  {
   "cell_type": "code",
   "execution_count": 19,
   "metadata": {},
   "outputs": [
    {
     "ename": "AttributeError",
     "evalue": "'list' object has no attribute 'split'",
     "output_type": "error",
     "traceback": [
      "\u001b[0;31m---------------------------------------------------------------------------\u001b[0m",
      "\u001b[0;31mAttributeError\u001b[0m                            Traceback (most recent call last)",
      "Cell \u001b[0;32mIn [19], line 23\u001b[0m\n\u001b[1;32m     20\u001b[0m             \u001b[39mpass\u001b[39;00m\n\u001b[1;32m     21\u001b[0m     \u001b[39mreturn\u001b[39;00m net_amount\n\u001b[0;32m---> 23\u001b[0m dep_with(example_list)\n",
      "Cell \u001b[0;32mIn [19], line 12\u001b[0m, in \u001b[0;36mdep_with\u001b[0;34m(words)\u001b[0m\n\u001b[1;32m     10\u001b[0m \u001b[39mif\u001b[39;00m \u001b[39mnot\u001b[39;00m words:\n\u001b[1;32m     11\u001b[0m     \u001b[39mbreak\u001b[39;00m\n\u001b[0;32m---> 12\u001b[0m values \u001b[39m=\u001b[39m words\u001b[39m.\u001b[39;49msplit(\u001b[39m\"\u001b[39m\u001b[39m \u001b[39m\u001b[39m\"\u001b[39m)\n\u001b[1;32m     13\u001b[0m operation \u001b[39m=\u001b[39m values[\u001b[39m0\u001b[39m]\n\u001b[1;32m     14\u001b[0m amount \u001b[39m=\u001b[39m \u001b[39mint\u001b[39m(values[\u001b[39m1\u001b[39m])\n",
      "\u001b[0;31mAttributeError\u001b[0m: 'list' object has no attribute 'split'"
     ]
    }
   ],
   "source": [
    "# write an example list for deposits and withdraws\n",
    "# then write the defined function\n",
    "# write a \n",
    "\n",
    "example_list = ['D 300', 'D 300', 'W 200', 'D 100']\n",
    "\n",
    "def dep_with(words):\n",
    "    net_amount = 0\n",
    "    while True:\n",
    "        if not words:\n",
    "            break\n",
    "        values = words.split(\" \")\n",
    "        operation = values[0]\n",
    "        amount = int(values[1])\n",
    "        if operation == \"D\":\n",
    "            net_amount += amount\n",
    "        elif operation == \"W\":\n",
    "            net_amount -= amount\n",
    "        else:\n",
    "            pass\n",
    "    return net_amount\n",
    "\n",
    "dep_with(example_list)"
   ]
  },
  {
   "cell_type": "markdown",
   "metadata": {},
   "source": [
    "Question 18:\n",
    "\n",
    "A website requires the users to input username and password to register. Write a program to check the validity of password input by users.\n",
    "Following are the criteria for checking the password:\n",
    "\n",
    "1. At least 1 letter between [a-z]\n",
    "\n",
    "2. At least 1 number between [0-9]\n",
    "\n",
    "1. At least 1 letter between [A-Z]\n",
    "\n",
    "3. At least 1 character from [$#@]\n",
    "\n",
    "4. Minimum length of transaction password: 6\n",
    "\n",
    "5. Maximum length of transaction password: 12\n",
    "\n",
    "Your program should accept a sequence of comma separated passwords and will check them according to the above criteria. Passwords that match the criteria are to be printed, each separated by a comma.\n",
    "\n",
    "Example\n",
    "\n",
    "If the following passwords are given as input to the program:\n",
    "ABd1234@1,a F1#,2w3E*,2We3345\n",
    "\n",
    "Then, the output of the program should be:\n",
    "ABd1234@1\n",
    "\n",
    "Hints:\n",
    "In case of input data being supplied to the question, it should be assumed to be a console input."
   ]
  },
  {
   "cell_type": "code",
   "execution_count": 21,
   "metadata": {},
   "outputs": [
    {
     "ename": "AttributeError",
     "evalue": "'tuple' object has no attribute 'split'",
     "output_type": "error",
     "traceback": [
      "\u001b[0;31m---------------------------------------------------------------------------\u001b[0m",
      "\u001b[0;31mAttributeError\u001b[0m                            Traceback (most recent call last)",
      "Cell \u001b[0;32mIn [21], line 35\u001b[0m\n\u001b[1;32m     32\u001b[0m         values\u001b[39m.\u001b[39mappend(n)\n\u001b[1;32m     33\u001b[0m     \u001b[39mreturn\u001b[39;00m (\u001b[39m\"\u001b[39m\u001b[39m,\u001b[39m\u001b[39m\"\u001b[39m\u001b[39m.\u001b[39mjoin(values))\n\u001b[0;32m---> 35\u001b[0m password_filter(passwords)\n",
      "Cell \u001b[0;32mIn [21], line 14\u001b[0m, in \u001b[0;36mpassword_filter\u001b[0;34m(password)\u001b[0m\n\u001b[1;32m     12\u001b[0m \u001b[39mdef\u001b[39;00m \u001b[39mpassword_filter\u001b[39m(password):\n\u001b[1;32m     13\u001b[0m     values \u001b[39m=\u001b[39m []\n\u001b[0;32m---> 14\u001b[0m     items \u001b[39m=\u001b[39m [x \u001b[39mfor\u001b[39;00m x \u001b[39min\u001b[39;00m password\u001b[39m.\u001b[39;49msplit(\u001b[39m'\u001b[39m\u001b[39m,\u001b[39m\u001b[39m'\u001b[39m)]\n\u001b[1;32m     15\u001b[0m     \u001b[39mfor\u001b[39;00m n \u001b[39min\u001b[39;00m items:\n\u001b[1;32m     16\u001b[0m         \u001b[39mif\u001b[39;00m \u001b[39mlen\u001b[39m(n) \u001b[39m<\u001b[39m \u001b[39m6\u001b[39m \u001b[39mor\u001b[39;00m \u001b[39mlen\u001b[39m(n) \u001b[39m>\u001b[39m \u001b[39m12\u001b[39m:\n",
      "\u001b[0;31mAttributeError\u001b[0m: 'tuple' object has no attribute 'split'"
     ]
    }
   ],
   "source": [
    "# import the regex function to proceed with problem\n",
    "# create an empty list to store the value\n",
    "# create a function that will split the passwords at the \",\"\n",
    "# determine the length requirements for the password\n",
    "# then list off other requirments for the password\n",
    "# once password made it through those steps, append to value list\n",
    "\n",
    "import re \n",
    "\n",
    "passwords = ('ABd1234@1','a F1#','2w3E*','2We3345')\n",
    "\n",
    "def password_filter(password):\n",
    "    values = []\n",
    "    items = [x for x in password.split(',')]\n",
    "    for n in items:\n",
    "        if len(n) < 6 or len(n) > 12:\n",
    "            continue \n",
    "        else:\n",
    "            pass\n",
    "        if not re.search(\"[a-z]\", n):\n",
    "            continue\n",
    "        elif not re.search(\"[0-9]\", n):\n",
    "            continue\n",
    "        elif not re.search(\"[A-Z]\", n):\n",
    "            continue \n",
    "        elif not re.search(\"[#$@]\", n):\n",
    "            continue\n",
    "        elif re.search(\"\\s\", n):\n",
    "            continue\n",
    "        else:\n",
    "            pass\n",
    "        values.append(n)\n",
    "    return (\",\".join(values))\n",
    "\n",
    "password_filter(passwords)"
   ]
  },
  {
   "cell_type": "markdown",
   "metadata": {},
   "source": [
    "Question 19:\n",
    "\n",
    "You are required to write a program to sort the (name, age, height) tuples by ascending order where name is string, age and height are numbers. The tuples are input by console. The sort criteria is:\n",
    "\n",
    "1: Sort based on name;\n",
    "\n",
    "2: Then sort based on age;\n",
    "\n",
    "3: Then sort by score.\n",
    "\n",
    "The priority is that name > age > score.\n",
    "\n",
    "If the following tuples are given as input to the program:\n",
    "\n",
    "Tom,19,80\n",
    "John,20,90\n",
    "Jony,17,91\n",
    "Jony,17,93\n",
    "Json,21,85\n",
    "\n",
    "Then, the output of the program should be:\n",
    "\n",
    "[('John', '20', '90'), ('Jony', '17', '91'), ('Jony', '17', '93'), ('Json', '21', '85'), ('Tom', '19', '80')]\n",
    "\n",
    "Hints:\n",
    "In case of input data being supplied to the question, it should be assumed to be a console input.\n",
    "We use itemgetter to enable multiple sort keys.\n"
   ]
  },
  {
   "cell_type": "code",
   "execution_count": null,
   "metadata": {},
   "outputs": [],
   "source": [
    "# CANT DO THIS PROBLEM WITHOUT IMPORTING ITEMGETTER, ATTRGETTER...\n",
    "\n",
    "info_list = ('Tom','19','80','John','20','90','Jony','17','91','Jony','17','93','Json','21','85')\n"
   ]
  },
  {
   "cell_type": "markdown",
   "metadata": {},
   "source": [
    "Question 20:\n",
    "\n",
    "Define a class with a generator which can iterate the numbers, which are divisible by 7, between a given range 0 and n.\n",
    "\n",
    "Hints:\n",
    "Consider use yield"
   ]
  },
  {
   "cell_type": "code",
   "execution_count": 23,
   "metadata": {},
   "outputs": [
    {
     "data": {
      "text/plain": [
       "<generator object divisable_nums at 0x1141bea50>"
      ]
     },
     "execution_count": 23,
     "metadata": {},
     "output_type": "execute_result"
    }
   ],
   "source": [
    "# we will set a variable that equals 0\n",
    "# then while that number is less then the max of our range, continue with the function\n",
    "# make a loop that will take each number in the range and test to see if it is divisable by 7\n",
    "# once every number in range has been tested, return the values that are divisable.\n",
    "\n",
    "given_range = 100\n",
    "\n",
    "def divisable_nums(n):\n",
    "    i = 0\n",
    "    while i<n:\n",
    "        j = i \n",
    "        i = i + 7\n",
    "        if j % 7 == 0:\n",
    "            yield j \n",
    "    for i in reversed(100):\n",
    "        print(i)\n",
    "\n",
    "divisable_nums(given_range)"
   ]
  }
 ],
 "metadata": {
  "kernelspec": {
   "display_name": "Python 3.9.7 64-bit",
   "language": "python",
   "name": "python3"
  },
  "language_info": {
   "codemirror_mode": {
    "name": "ipython",
    "version": 3
   },
   "file_extension": ".py",
   "mimetype": "text/x-python",
   "name": "python",
   "nbconvert_exporter": "python",
   "pygments_lexer": "ipython3",
   "version": "3.9.7"
  },
  "orig_nbformat": 4,
  "vscode": {
   "interpreter": {
    "hash": "aee8b7b246df8f9039afb4144a1f6fd8d2ca17a180786b69acc140d282b71a49"
   }
  }
 },
 "nbformat": 4,
 "nbformat_minor": 2
}
